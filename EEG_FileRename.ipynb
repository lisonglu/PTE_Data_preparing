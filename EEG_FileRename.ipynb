{
 "cells": [
  {
   "cell_type": "code",
   "execution_count": 1,
   "metadata": {},
   "outputs": [],
   "source": [
    "import pandas as pd\n",
    "import re\n",
    "import glob, os\n",
    "import shutil"
   ]
  },
  {
   "cell_type": "code",
   "execution_count": null,
   "metadata": {},
   "outputs": [],
   "source": [
    "#Input pt info\n",
    "EEG_filepaths = pd.read_excel(\"CCERMC_PTE_FINAL.xlsx\",sheet_name='PTE Input Sheet',skiprows=6)\n",
    "EEG_filepaths['SID'] = EEG_filepaths['Subject ID'].str.extract('(\\d+)')\n",
    "EEG_filepaths.set_index('SID')"
   ]
  },
  {
   "cell_type": "code",
   "execution_count": 44,
   "metadata": {},
   "outputs": [],
   "source": [
    "#change EEG file names\n",
    "os.chdir('C:/Users/songlu_home/Box/Lab Projects/PTE_Project/UFlorida')\n",
    "edf_files = glob.glob('EEG_original/*/EDF/File*.edf')\n",
    "for file in edf_files:\n",
    "  root, name = os.path.split(file)\n",
    "  changed_name = 'UFL_PTE_SID{:03d}_{:02d}'.format(int(root.lstrip('EEG_original\\\\UF').rstrip('\\\\EDF')), int(name.lstrip('File').lstrip(' ').rstrip('.edf')))\n",
    "  os.rename(file, os.path.join(root,changed_name+'.edf'))"
   ]
  },
  {
   "cell_type": "code",
   "execution_count": 71,
   "metadata": {},
   "outputs": [],
   "source": [
    "#change report file names\n",
    "os.chdir('C:/Users/songlu_home/Box/Lab Projects/PTE_Project/UFlorida')\n",
    "docx_files = glob.glob('EEG_original/*/*.docx')\n",
    "for report_files in docx_files:\n",
    "  root, name = os.path.split(report_files)\n",
    "  docx_changed_name = 'UFL_PTE_SID_{:02d}_'.format(int(root.lstrip('EEG_original\\\\UF')))\n",
    "  os.rename(report_files, os.path.join(root,docx_changed_name+name))"
   ]
  },
  {
   "cell_type": "code",
   "execution_count": 65,
   "metadata": {},
   "outputs": [],
   "source": [
    "#move EEGs into 'EEG' folder\n",
    "edf_destination=\"C:/Users/songlu_home/Box/Lab Projects/PTE_Project/UFlorida/EEG\"\n",
    "for edf in edf_files:\n",
    "    shutil.move(edf, edf_destination)    "
   ]
  },
  {
   "cell_type": "code",
   "execution_count": null,
   "metadata": {},
   "outputs": [],
   "source": [
    "#move EEG reports into 'EEG_reports' folder\n",
    "EEG_reports_destination=\"C:/Users/songlu_home/Box/Lab Projects/PTE_Project/UFlorida/EEG_reports\"\n",
    "for EEG_reports in docx_files:\n",
    "    for glob.glob('*CT Reports.docx')\n",
    "    shutil.move(EEG_reports, EEG_reports_destination)  "
   ]
  }
 ],
 "metadata": {
  "kernelspec": {
   "display_name": "Python 3",
   "language": "python",
   "name": "python3"
  },
  "language_info": {
   "codemirror_mode": {
    "name": "ipython",
    "version": 3
   },
   "file_extension": ".py",
   "mimetype": "text/x-python",
   "name": "python",
   "nbconvert_exporter": "python",
   "pygments_lexer": "ipython3",
   "version": "3.8.3"
  }
 },
 "nbformat": 4,
 "nbformat_minor": 4
}
